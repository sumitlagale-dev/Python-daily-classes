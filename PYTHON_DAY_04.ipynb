{
  "nbformat": 4,
  "nbformat_minor": 0,
  "metadata": {
    "colab": {
      "provenance": []
    },
    "kernelspec": {
      "name": "python3",
      "display_name": "Python 3"
    },
    "language_info": {
      "name": "python"
    }
  },
  "cells": [
    {
      "cell_type": "code",
      "execution_count": null,
      "metadata": {
        "colab": {
          "base_uri": "https://localhost:8080/"
        },
        "id": "aOZFqJxiGQd2",
        "outputId": "c80bbcb8-9948-4983-ac30-f4f7f85e066e"
      },
      "outputs": [
        {
          "output_type": "stream",
          "name": "stdout",
          "text": [
            "['laptop', 39000, 'window', 'lenovo', 'bengaluru', 'laotop', 39000, 'mac', 'lenovo', 'chikodi']\n",
            "2\n"
          ]
        }
      ],
      "source": [
        "Example=[\"laptop\",39000,\"window\",\"lenovo\",\"bengaluru\",\"laotop\",39000,\"mac\",\"lenovo\",\"chikodi\"]\n",
        "print(Example)\n",
        "print(Example.count(\"lenovo\"))\n"
      ]
    },
    {
      "cell_type": "code",
      "source": [
        "A=10\n",
        "B=20\n",
        "print(A+B)"
      ],
      "metadata": {
        "colab": {
          "base_uri": "https://localhost:8080/"
        },
        "id": "zrcgWBEkJHuy",
        "outputId": "333c3308-9773-48db-9643-05e9901faa7a"
      },
      "execution_count": null,
      "outputs": [
        {
          "output_type": "stream",
          "name": "stdout",
          "text": [
            "30\n"
          ]
        }
      ]
    },
    {
      "cell_type": "code",
      "source": [
        "# Run time program\n",
        "\n",
        "X=int(input(\"Enter the value of X\"))\n",
        "Y=int(input(\"Enter the value of Y\"))\n",
        "print(\"Addition of \",X,\"and\",Y,\"value is =\",X+Y)"
      ],
      "metadata": {
        "colab": {
          "base_uri": "https://localhost:8080/"
        },
        "id": "7F5WwTBVJeFi",
        "outputId": "3f4ada86-25cf-4f3b-d237-6d9fdbe01036"
      },
      "execution_count": null,
      "outputs": [
        {
          "output_type": "stream",
          "name": "stdout",
          "text": [
            "Enter the value of X10\n",
            "Enter the value of Y20\n",
            "Addition of  10 and 20 value is = 30\n"
          ]
        }
      ]
    },
    {
      "cell_type": "code",
      "source": [
        "first=float(input(\"Enter  first value:\"))\n",
        "second=float(input(\"Enter  second value:\"))\n",
        "print(first*second)\n",
        "print(\"Addition of \",first,\"and\",second,\"value is =\",first+second)"
      ],
      "metadata": {
        "colab": {
          "base_uri": "https://localhost:8080/"
        },
        "id": "H9KaHLkVM-Vc",
        "outputId": "e6b4a523-8a2c-4e9b-b657-8be714f44e3b"
      },
      "execution_count": null,
      "outputs": [
        {
          "output_type": "stream",
          "name": "stdout",
          "text": [
            "Enter  first value:10\n",
            "Enter  second value:5\n",
            "50.0\n",
            "Addition of  10.0 and 5.0 value is = 15.0\n"
          ]
        }
      ]
    },
    {
      "cell_type": "code",
      "source": [
        "first_name=input"
      ],
      "metadata": {
        "id": "hwjBkgW-OCzs"
      },
      "execution_count": null,
      "outputs": []
    },
    {
      "cell_type": "code",
      "source": [
        "x=10\n",
        "print(x)\n",
        "x-=2\n",
        "print(x)\n",
        "x*=5\n",
        "print(x)\n",
        "x//=3\n",
        "print(x)\n",
        "x**=2\n",
        "print(x)\n",
        "x%=4\n",
        "print(x)\n",
        "x+=9\n",
        "print(x)\n",
        "x/=3\n",
        "print(x)"
      ],
      "metadata": {
        "colab": {
          "base_uri": "https://localhost:8080/"
        },
        "id": "iggpQM-u0Mko",
        "outputId": "3b986ff4-f3ab-43e2-948d-541cff5b5f4f"
      },
      "execution_count": 98,
      "outputs": [
        {
          "output_type": "stream",
          "name": "stdout",
          "text": [
            "10\n",
            "8\n",
            "40\n",
            "13\n",
            "169\n",
            "1\n",
            "10\n",
            "3.3333333333333335\n"
          ]
        }
      ]
    }
  ]
}